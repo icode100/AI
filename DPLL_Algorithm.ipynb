{
  "nbformat": 4,
  "nbformat_minor": 0,
  "metadata": {
    "colab": {
      "provenance": []
    },
    "kernelspec": {
      "name": "python3",
      "display_name": "Python 3"
    },
    "language_info": {
      "name": "python"
    }
  },
  "cells": [
    {
      "cell_type": "markdown",
      "source": [
        "DPLL algorithm\n",
        "\n",
        "psseudo code:\n",
        "```java\n",
        "dpll(F,literal){\n",
        "    remove clauses containing the literal\n",
        "    if (F contains no clause){\n",
        "        return true;\n",
        "    }\n",
        "    shorten clauses containing ¬literal\n",
        "    if (F contains empty clause){\n",
        "        return false;\n",
        "    }\n",
        "    if (F contains a unit or pure L){\n",
        "        return dpll(F,L);\n",
        "    }\n",
        "    choose V in F;\n",
        "    if (dpll(F,¬V)){\n",
        "        return true;\n",
        "    }\n",
        "    return dpll(F,V);\n",
        "}\n",
        "```"
      ],
      "metadata": {
        "id": "JatC8bTyKVan"
      }
    },
    {
      "cell_type": "code",
      "source": [
        "from collections import defaultdict\n",
        "def pure(clauset:list[set[str]],literals:set[str]):\n",
        "    pureset = set()\n",
        "    for literal in literals:\n",
        "        lit = str()\n",
        "        cl = set()\n",
        "        for clause in clauset:\n",
        "            if literal in clause:\n",
        "                lit = literal\n",
        "                cl = clause\n",
        "                break\n",
        "            elif '~'+literal in clause:\n",
        "                lit = '~'+literal\n",
        "                cl = clause\n",
        "                break\n",
        "        flag = True\n",
        "        neglit = '~'+lit if lit[0]!='~' else lit[1:]\n",
        "\n",
        "        clauset.remove(cl)\n",
        "        for clause in clauset:\n",
        "            if neglit in clause:\n",
        "                flag=False\n",
        "        clauset.append(cl)\n",
        "        if flag:\n",
        "            pureset.add(lit)\n",
        "    return pureset\n",
        "\n",
        "\n",
        "\n",
        "\n",
        "def dpll(clauset:list[set[str]],literal:str,assignment:defaultdict[str,bool],pureset:set[str],literals):\n",
        "    # removing clauses containing the literal\n",
        "    for clause in clauset:\n",
        "        if literal in clause:\n",
        "            clauset.remove(clause)\n",
        "\n",
        "    #if set of clauses becomes empty then we get true\n",
        "    if len(clauset)==0:\n",
        "        return True\n",
        "\n",
        "    # shortening of the clauses containing negative of literal\n",
        "    neglit = '~'+literal if literal[0]!='~' else literal[1:]\n",
        "    for clause in clauset:\n",
        "        if neglit in clause:\n",
        "            clause.remove(neglit)\n",
        "\n",
        "    # if we get one empty clause then return false\n",
        "    if {} in clauset:\n",
        "        return False\n",
        "\n",
        "    # if we get a unit clause we run dpll for it\n",
        "    for clause in clauset:\n",
        "        if len(clause)==1:\n",
        "            lit = clause.pop()\n",
        "            if lit[0]=='~':\n",
        "                assignment[lit[1:]] = False\n",
        "                literals.remove(lit[1:])\n",
        "            else:\n",
        "                assignment[lit]=True\n",
        "                literals.remove(lit)\n",
        "            dpll(clauset,lit,assignment,pureset,literals)\n",
        "\n",
        "    # pure literal passing\n",
        "    if len(pureset)!=0:\n",
        "        lit = pureset.pop()\n",
        "        if lit[0]=='~':\n",
        "            assignment[lit[1:]] = False\n",
        "            literals.remove(lit[1:])\n",
        "        else:\n",
        "            assignment[lit]=True\n",
        "            literals.remove(lit)\n",
        "        dpll(clauset,lit,assignment,pureset,literals)\n",
        "\n",
        "    # if neither pure nor unit literal remains then randomly pick a literal and use it\n",
        "    v = literals.pop()\n",
        "    assignment[v]=False\n",
        "    if dpll(clauset,'~'+v,assignment,pureset,literals):\n",
        "        return True\n",
        "    assignment[v] = True\n",
        "    return dpll(clauset,v,assignment,pureset,literals)"
      ],
      "metadata": {
        "id": "y-XB55oOKWGJ"
      },
      "execution_count": null,
      "outputs": []
    },
    {
      "cell_type": "code",
      "source": [
        "\n",
        "if __name__==\"__main__\":\n",
        "    # {{a ¬b c}{¬c d ¬e}{¬a ¬b e}{d b}{e a ¬c}}\n",
        "    clauset = [{'a','~b','c'},{'~c','d','~e'},{'~a','~b','e'},{'d','b'},{'e','a','~c'}]\n",
        "    literals = {'a','b','c','d','e'}\n",
        "    assignment = defaultdict(bool)\n",
        "    pureset = pure(clauset,literals)\n",
        "    literal = pureset.pop()\n",
        "    print(dpll(clauset,literal,assignment,pureset,literals))\n",
        "    print(assignment)\n",
        "\n",
        "\n"
      ],
      "metadata": {
        "colab": {
          "base_uri": "https://localhost:8080/"
        },
        "id": "UZWDr_Sx9HI4",
        "outputId": "20a55c41-a5d0-45dc-fb02-6d1fba29ed56"
      },
      "execution_count": null,
      "outputs": [
        {
          "output_type": "stream",
          "name": "stdout",
          "text": [
            "True\n",
            "defaultdict(<class 'bool'>, {'d': False, 'c': False, 'e': False, 'b': False, 'a': False})\n"
          ]
        }
      ]
    },
    {
      "cell_type": "markdown",
      "source": [
        "# Birthday paradox\n",
        "\n",
        "formula used P(n) = probability of atleast two children have same birthdate from n children = 1-$\\frac{^{365}P_{n}}{365^n}$"
      ],
      "metadata": {
        "id": "6r1PcCCvFw6A"
      }
    },
    {
      "cell_type": "code",
      "execution_count": null,
      "metadata": {
        "id": "ROirkxk4Fkgb"
      },
      "outputs": [],
      "source": [
        "#imports\n",
        "import math\n",
        "import matplotlib.pyplot as plt\n",
        "from typing import *"
      ]
    },
    {
      "cell_type": "code",
      "source": [
        "def plotgraph(start: int, end: int) -> None:\n",
        "    prob: Callable[[int], float] = lambda n: 1-(math.perm(365, n) / math.pow(365, n))\n",
        "    x_values = list(range(start, end + 1))\n",
        "    y_values = [prob(i) for i in x_values]\n",
        "    plt.plot(x_values, y_values)\n",
        "    plt.xlabel('Number of People')\n",
        "    plt.ylabel('Probability')\n",
        "\n",
        "plotgraph(1, 100)"
      ],
      "metadata": {
        "colab": {
          "base_uri": "https://localhost:8080/",
          "height": 449
        },
        "id": "Oy-uDOxsG19y",
        "outputId": "d85c7c7d-1018-4920-ad2f-19928a171ac5"
      },
      "execution_count": null,
      "outputs": [
        {
          "output_type": "display_data",
          "data": {
            "text/plain": [
              "<Figure size 640x480 with 1 Axes>"
            ],
            "image/png": "[encoded data removed]"
          },
          "metadata": {}
        }
      ]
    }
  ]
}