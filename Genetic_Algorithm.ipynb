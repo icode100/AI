{
 "cells": [
  {
   "cell_type": "markdown",
   "metadata": {},
   "source": [
    "# Genetic Algorithm"
   ]
  },
  {
   "cell_type": "markdown",
   "metadata": {},
   "source": [
    "* In this particular variant of the genetic\n",
    "algorithm, the probability of being chosen for reproducing is directly proportional to the\n",
    "fitness score"
   ]
  },
  {
   "cell_type": "code",
   "execution_count": 84,
   "metadata": {},
   "outputs": [],
   "source": [
    "from copy import deepcopy\n",
    "import random\n",
    "import numpy\n",
    "class State:\n",
    "    def __init__(self,placement:list[int]):\n",
    "        self.placement = placement\n",
    "        def checkAttack(idx1, idx2):\n",
    "            row1,col1 = self.placement[idx1],idx1\n",
    "            row2,col2 = self.placement[idx2], idx2\n",
    "            if row1==row2:\n",
    "                return True\n",
    "            if col1 == col2:\n",
    "                return True\n",
    "            if abs(row1-row2)==abs(col1-col2):\n",
    "                return True\n",
    "        self.fitness = 0\n",
    "        for i in range(8):\n",
    "            for j in range(i,8):\n",
    "                if not checkAttack(i,j):\n",
    "                    self.fitness+=1\n",
    "\n",
    "def GeneticSelection(population:list[State]):\n",
    "    iterations = 0\n",
    "    while iterations < 500:\n",
    "        tempsum = sum([i.fitness for i in population])\n",
    "        probability = [i.fitness/tempsum for i in population]\n",
    "        new_pop:list[State] = list()\n",
    "        vis = set()\n",
    "        for i in range(len(population)):\n",
    "            parent1,parent2 = random.choices([i.placement for i in population],probability,k=2)\n",
    "            cut = random.choice(range(7))\n",
    "            child = parent1[:cut]+parent2[cut:]\n",
    "\n",
    "            if numpy.random.rand()<0.15:\n",
    "                random_index = random.choice(range(8))\n",
    "                random_change = random.choice(range(8))\n",
    "                child[random_index] = random_change\n",
    "            if tuple(child) not in vis:\n",
    "                new_pop.append(State(child))\n",
    "                vis.add(tuple(child))\n",
    "        iterations+=1\n",
    "        population = deepcopy(new_pop)\n",
    "    print(iterations)\n",
    "    result:State\n",
    "    maxi = 0\n",
    "    for i in population:\n",
    "        if i.fitness>maxi:\n",
    "            maxi = i.fitness\n",
    "            result = i\n",
    "    return result #type: ignore"
   ]
  },
  {
   "cell_type": "code",
   "execution_count": 91,
   "metadata": {},
   "outputs": [
    {
     "name": "stdout",
     "output_type": "stream",
     "text": [
      "500\n",
      "the most fit solution is [6, 4, 4, 0, 7, 2, 4, 1] with fitness value 22\n"
     ]
    }
   ],
   "source": [
    "if __name__ == \"__main__\":\n",
    "    population=[State([2,4,7,4,8,5,5,2]),State([3,2,7,5,2,4,1,1]),State([2,4,4,1,5,1,2,4]),State([3,2,5,4,3,2,1,3])]\n",
    "    result = GeneticSelection(population)\n",
    "    print(f\"the most fit solution is {result.placement} with fitness value {result.fitness}\")"
   ]
  }
 ],
 "metadata": {
  "kernelspec": {
   "display_name": "Python 3",
   "language": "python",
   "name": "python3"
  },
  "language_info": {
   "codemirror_mode": {
    "name": "ipython",
    "version": 3
   },
   "file_extension": ".py",
   "mimetype": "text/x-python",
   "name": "python",
   "nbconvert_exporter": "python",
   "pygments_lexer": "ipython3",
   "version": "3.11.4"
  }
 },
 "nbformat": 4,
 "nbformat_minor": 2
}
