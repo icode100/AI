{
  "cells": [
    {
      "cell_type": "markdown",
      "metadata": {
        "id": "i2576LOAOR3c"
      },
      "source": [
        "\n",
        "<div style='font-family:\"cambria\";'>Implement approximate inference in Bayesian network using following sampling methods:<br>\n",
        "a. Rejection sampling<br>\n",
        "b. Likelihood sampling<br>\n",
        "c. Gibbs sampling<br>\n",
        "\n",
        "Refer the below attachment for Bayesian network.\n",
        "\n",
        "Infer the following quires: <br>\n",
        "1. P(High Income | Payment = payback)<br>\n",
        "2. P(Housing = Tenant | low income & no security)<br>\n",
        "3. P(Payment = default | Deposit = Large)<br>\n",
        "</div>\n"
      ]
    },
    {
      "cell_type": "markdown",
      "metadata": {
        "id": "T-1g4pGsOR5G"
      },
      "source": [
        "<img src=\"https://onedrive.live.com/embed?resid=3E88EC0719160DD3%21353858&authkey=%21AJNjfNr6a4vuoe4&width=660\" width=\"500\" height=\"auto\" />"
      ]
    },
    {
      "cell_type": "code",
      "execution_count": null,
      "metadata": {
        "id": "WUyw27uzOR5I"
      },
      "outputs": [],
      "source": [
        "from collections import * #type: ignore\n",
        "import numpy as np"
      ]
    },
    {
      "cell_type": "code",
      "execution_count": null,
      "metadata": {
        "id": "qbxtTkztOR5M"
      },
      "outputs": [],
      "source": [
        "class Graph:\n",
        "    def __init__(self,edges,cpt) -> None: # for the above example [['A','B'],['A','C'],['B','C'],['C','D'],['E','D']]\n",
        "        self.graph = defaultdict(list)\n",
        "        self.vars = set()\n",
        "        self.indegree = defaultdict(int)\n",
        "        self.parents = defaultdict(list)\n",
        "        self.toporder = list()\n",
        "        self.cpt = cpt\n",
        "        for edge in edges:\n",
        "            self.graph[edge[0]].append(edge[1])\n",
        "            self.vars.add(edge[0])\n",
        "            self.vars.add(edge[1])\n",
        "            if edge[0] in self.indegree:\n",
        "                self.indegree[edge[0]]\n",
        "            self.indegree[edge[1]]+=1\n",
        "        # toposort\n",
        "        q = deque()\n",
        "        for i in self.vars:\n",
        "            if self.indegree[i]==0:\n",
        "                q.append(i)\n",
        "        while q:\n",
        "            node = q.popleft()\n",
        "            self.toporder.append(node)\n",
        "            for child in self.graph[node]:\n",
        "                self.indegree[child]-=1\n",
        "                self.parents[child].append(node)\n",
        "                if self.indegree[child]==0:\n",
        "                    q.append(child)\n",
        "\n",
        "\n",
        "class Inference:\n",
        "    def __init__(self,n,evidence:defaultdict[str,bool],query:defaultdict[str,bool]):\n",
        "        self.n = n\n",
        "        self.evidence = evidence\n",
        "        self.query = query\n",
        "\n",
        "    # rejection sampling\n",
        "    def priorSampling(self,bsnet:Graph)-> defaultdict[str,bool]:\n",
        "        sample = defaultdict(bool)\n",
        "        for node in bsnet.toporder:\n",
        "            prob = np.random.rand()\n",
        "            if not bsnet.parents[node]:\n",
        "                sample[node]=prob<=bsnet.cpt[node]\n",
        "            else:\n",
        "                sample[node] = prob <= bsnet.cpt[node][tuple([sample[parent] for parent in bsnet.parents[node]])]\n",
        "        return sample\n",
        "    def isConsistent(self,sample):\n",
        "        flag = True\n",
        "        for i in self.evidence:\n",
        "            if self.evidence[i]!=sample[i]:\n",
        "                flag = False\n",
        "        return flag\n",
        "\n",
        "    def queryChecker(self,sample)->bool:\n",
        "        for i in self.query:\n",
        "            if self.query[i]!=sample[i]:\n",
        "                return False\n",
        "        return True\n",
        "\n",
        "    def rejectionSampling(self,bsnet:Graph):\n",
        "        samplecnt = 0\n",
        "        favsamplecnt=0\n",
        "        for _ in range(self.n):\n",
        "            sample = self.priorSampling(bsnet)\n",
        "            if self.isConsistent(sample):\n",
        "                samplecnt+=1\n",
        "                favsamplecnt+=int(self.queryChecker(sample))\n",
        "        return float(favsamplecnt/samplecnt)\n",
        "\n",
        "\n",
        "    # likelihood weighting\n",
        "    def weightedSampling(self,bsnet:Graph)->tuple[defaultdict[str,bool],int]:\n",
        "        sample = defaultdict(bool)\n",
        "        w = 1\n",
        "        for node in bsnet.toporder:\n",
        "            prob = np.random.rand()\n",
        "            if node in self.evidence:\n",
        "                if not bsnet.parents[node]:\n",
        "                    if self.evidence[node] == True:\n",
        "                        w*=bsnet.cpt[node]\n",
        "                    else:\n",
        "                        w*=(1-bsnet.cpt[node])\n",
        "\n",
        "                else:\n",
        "                    conditions = tuple([sample[parent] for parent in bsnet.parents[node]])\n",
        "                    if self.evidence[node] == True:\n",
        "                        w*=bsnet.cpt[node][conditions]\n",
        "                    else:\n",
        "                        w*=(1-bsnet.cpt[node][conditions])\n",
        "                sample[node] = self.evidence[node]\n",
        "            else:\n",
        "                if not bsnet.parents[node]:\n",
        "                    sample[node] = (bsnet.cpt[node]<=prob)\n",
        "                else:\n",
        "                    sample[node] = (bsnet.cpt[node][tuple([sample[parent] for parent in bsnet.parents[node]])])\n",
        "            return (sample,w)\n",
        "    def likelihoodWeighting(self,bsnet:Graph):\n",
        "        favourableweight = 0\n",
        "        totalweight = 0\n",
        "        for _ in range(self.n):\n",
        "            sample,weight = self.weightedSampling(bsnet)\n",
        "            totalweight+=weight\n",
        "            if self.queryChecker(sample):\n",
        "                favourableweight+=weight\n",
        "        return float(favourableweight/totalweight)\n",
        "\n",
        "    # gibbs sampling\n",
        "    def gibbsSampling(self,bsnet:Graph):\n",
        "        favourable_samples = 0\n",
        "        total_samples = 1\n",
        "        current_sample = defaultdict(bool)\n",
        "        non_evidence = set(bsnet.graph.keys()) - set(self.evidence.keys())\n",
        "\n",
        "        for evid in self.evidence:\n",
        "            current_sample[evid] = self.evidence[evid]\n",
        "        for nevid in non_evidence:\n",
        "            current_sample[nevid] = np.random.choice([True,False])\n",
        "        favourable_samples+=self.queryChecker(current_sample)\n",
        "\n",
        "        for _ in range(self.n):\n",
        "            samples = current_sample.copy()\n",
        "            nevid  = np.random.choice(list(non_evidence))\n",
        "            prob = np.random.rand()\n",
        "            if not bsnet.parents[nevid]:\n",
        "                samples[nevid] = prob <= bsnet.cpt[nevid]\n",
        "            else:\n",
        "                samples[nevid] = prob <= bsnet.cpt[nevid][tuple([samples[parent] for parent in bsnet.parents[nevid]])]\n",
        "            favourable_samples+=self.queryChecker(samples)\n",
        "            total_samples+=1\n",
        "        return float(favourable_samples/total_samples)"
      ]
    },
    {
      "cell_type": "code",
      "execution_count": null,
      "metadata": {
        "id": "WMABIrkeOR5O"
      },
      "outputs": [],
      "source": [
        "edges = [['A','B'],['A','C'],['B','C'],['C','D'],['E','D']]\n",
        "cpt = {\n",
        "    \"A\":0.3,\n",
        "    \"B\":{(True,):0.1 , (False,):0.6},\n",
        "    \"C\":{(True,True):0.05, (True,False):0.5, (False,True):0.45, (False,False):0.6},\n",
        "    \"E\":0.35,\n",
        "    \"D\":{(True,True):0.01, (True,False):0.75, (False,True):0.5,(False,False):0.31},\n",
        "}\n",
        "bsnet = Graph(edges,cpt)\n",
        "\n",
        "\n"
      ]
    },
    {
      "cell_type": "code",
      "execution_count": null,
      "metadata": {
        "colab": {
          "base_uri": "https://localhost:8080/"
        },
        "id": "e4R5Sb2JOR5Q",
        "outputId": "85e1b23e-b3a4-4e41-d23f-329dc3a74221"
      },
      "outputs": [
        {
          "output_type": "stream",
          "name": "stdout",
          "text": [
            "using rejection sampling : 0.3287589498806683\n",
            "likelihood weighting: 0.0\n",
            "gibbs sampling: 0.0756924307569243\n"
          ]
        }
      ],
      "source": [
        "# Q1 P(A=True | C=False)\n",
        "infer = Inference(10000,{'C':False},{\"A\":True})\n",
        "print(f\"using rejection sampling : {infer.rejectionSampling(bsnet)}\")\n",
        "print(f\"likelihood weighting: {infer.likelihoodWeighting(bsnet)}\")\n",
        "print(f\"gibbs sampling: {infer.gibbsSampling(bsnet)}\")"
      ]
    },
    {
      "cell_type": "code",
      "execution_count": null,
      "metadata": {
        "colab": {
          "base_uri": "https://localhost:8080/"
        },
        "id": "Iwn1fJ8dOR5X",
        "outputId": "d00c6753-ea51-4a22-8197-6be7b01d52ae"
      },
      "outputs": [
        {
          "output_type": "stream",
          "name": "stdout",
          "text": [
            "using rejection sampling : 0.6445006902899217\n",
            "likelihood weighting: 0.3422\n",
            "gibbs sampling: 0.8824117588241176\n"
          ]
        }
      ],
      "source": [
        "# Q2 P(E=False | A=False,D = False)\n",
        "infer = Inference(10000,{\"A\":False, \"D\":False},{\"E\":False})\n",
        "print(f\"using rejection sampling : {infer.rejectionSampling(bsnet)}\")\n",
        "print(f\"likelihood weighting: {infer.likelihoodWeighting(bsnet)}\")\n",
        "print(f\"gibbs sampling: {infer.gibbsSampling(bsnet)}\")"
      ]
    },
    {
      "cell_type": "code",
      "execution_count": null,
      "metadata": {
        "colab": {
          "base_uri": "https://localhost:8080/"
        },
        "id": "lPQuoI4xOR5Z",
        "outputId": "49cd53a9-c1a7-42de-d8e8-736568b93831"
      },
      "outputs": [
        {
          "output_type": "stream",
          "name": "stdout",
          "text": [
            "using rejection sampling : 0.4301388266905508\n",
            "likelihood weighting: 0.0\n",
            "gibbs sampling: 0.8574142585741426\n"
          ]
        }
      ],
      "source": [
        "# Q3 P(C=True | B = True)\n",
        "infer = Inference(10000, {\"B\":True}, {\"C\":True})\n",
        "print(f\"using rejection sampling : {infer.rejectionSampling(bsnet)}\")\n",
        "print(f\"likelihood weighting: {infer.likelihoodWeighting(bsnet)}\")\n",
        "print(f\"gibbs sampling: {infer.gibbsSampling(bsnet)}\")"
      ]
    }
  ],
  "metadata": {
    "kernelspec": {
      "display_name": "Python 3",
      "language": "python",
      "name": "python3"
    },
    "language_info": {
      "codemirror_mode": {
        "name": "ipython",
        "version": 3
      },
      "file_extension": ".py",
      "mimetype": "text/x-python",
      "name": "python",
      "nbconvert_exporter": "python",
      "pygments_lexer": "ipython3",
      "version": "3.11.4"
    },
    "colab": {
      "provenance": []
    }
  },
  "nbformat": 4,
  "nbformat_minor": 0
}