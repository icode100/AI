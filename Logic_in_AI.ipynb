{
  "nbformat": 4,
  "nbformat_minor": 0,
  "metadata": {
    "colab": {
      "provenance": []
    },
    "kernelspec": {
      "name": "python3",
      "display_name": "Python 3"
    },
    "language_info": {
      "name": "python"
    }
  },
  "cells": [
    {
      "cell_type": "code",
      "execution_count": null,
      "metadata": {
        "colab": {
          "base_uri": "https://localhost:8080/"
        },
        "id": "84MqNOaHVIux",
        "outputId": "3f97bc2c-ab9d-4556-ba1a-b0fa4a8694c3"
      },
      "outputs": [
        {
          "output_type": "stream",
          "name": "stdout",
          "text": [
            "True\n"
          ]
        }
      ],
      "source": [
        "import collections\n",
        "def forwardChaining(qs, target):\n",
        "    infered = dict()\n",
        "    countForDummi = list()\n",
        "    inPremise = collections.defaultdict(list)\n",
        "    dummiMap = list()\n",
        "    q = collections.deque()\n",
        "    n = len(qs)\n",
        "\n",
        "    for i in range(n):\n",
        "        clause = qs[i]\n",
        "        left = clause[0]\n",
        "        right = clause[1]\n",
        "        infered[right] = False\n",
        "        if len(left) != 0:\n",
        "            dummiMap.append(right)\n",
        "            countForDummi.append(len(left))\n",
        "            for literal in left:\n",
        "                inPremise[literal].append(i)\n",
        "                infered[literal] = False\n",
        "        else:\n",
        "            q.append(right)\n",
        "\n",
        "    while q:\n",
        "        literal = q.popleft()\n",
        "        if infered[literal] == False:\n",
        "            if literal == target:\n",
        "                return True\n",
        "            infered[literal] = True\n",
        "            for dummi in inPremise[literal]:\n",
        "                countForDummi[dummi] = countForDummi[dummi] - 1\n",
        "                if countForDummi[dummi] == 0:\n",
        "                    q.append(dummiMap[dummi])\n",
        "\n",
        "    return False\n",
        "\n",
        "\n",
        "if __name__ == \"__main__\":\n",
        "    qs = [[['p'],'q'],[['l', 'm'], 'p'], [['b', 'l'], 'm'], [['a', 'p'],'l'], [['a', 'b'], 'l'], [[],'a'], [[], 'b']]\n",
        "    target = 'q'\n",
        "    k = forwardChaining(qs, target)\n",
        "    print(k)"
      ]
    },
    {
      "cell_type": "code",
      "source": [
        "def resolution(qs):\n",
        "    clauses2 = []\n",
        "    clauses1 = []\n",
        "    clause1Set = set()\n",
        "    clause2Set = set()\n",
        "    for clause in qs:\n",
        "        subClause = \"\"\n",
        "        for literal in clause:\n",
        "            if len(literal) == 1:\n",
        "                subClause += '*'+str(ord(literal))\n",
        "            else:\n",
        "                subClause += '*-'+str(ord(literal[1]))\n",
        "        subClause += '*'\n",
        "        clauses2.append(subClause)\n",
        "        clause2Set.add(subClause)\n",
        "\n",
        "    c = 0\n",
        "    while True:\n",
        "        n2 = len(clauses2)\n",
        "        n1 = len(clauses1)\n",
        "        newClauseSet = set()\n",
        "        newClauses = []\n",
        "        for i in range(n2):\n",
        "            for j in range(i + 1, n2):\n",
        "                clause1 = clauses2[i]\n",
        "                clause2 = clauses2[j]\n",
        "                pre1 = 0\n",
        "                for k in range(1,len(clause1)):\n",
        "                    if clause1[k] == '*':\n",
        "                        no1S = clause1[pre1 + 1:k]\n",
        "                        if no1S[0] == '-':\n",
        "                            no1 = -1 * int(no1S[1:])\n",
        "                        else:\n",
        "                            no1 = int(no1S)\n",
        "                        pre2 = 0\n",
        "                        for l in range(1,len(clause2)):\n",
        "                            if clause2[l] == '*':\n",
        "                                no2S = clause2[pre2 + 1:l]\n",
        "                                if no2S[0] == '-':\n",
        "                                    no2 = -1 * int(no2S[1:])\n",
        "                                else:\n",
        "                                    no2 = int(no2S)\n",
        "                                if no1 + no2 == 0:\n",
        "                                    newClause = clause1[:pre1] + clause1[k:]\n",
        "                                    sub = clause2[:pre2] + clause2[l:]\n",
        "                                    newClause += sub[1:]\n",
        "                                    if len(newClause) == 1:\n",
        "                                        return True\n",
        "                                    if newClause not in clause1Set and newClause not in clause2Set:\n",
        "                                        newClauseSet.add(newClause)\n",
        "                                        newClauses.append(newClause)\n",
        "                                pre2 = l\n",
        "                        pre1 = k\n",
        "\n",
        "        for i in range(n2):\n",
        "            for j in range(n1):\n",
        "                clause1 = clauses2[i]\n",
        "                clause2 = clauses1[j]\n",
        "                pre1 = 0\n",
        "                for k in range(1,len(clause1)):\n",
        "                    if clause1[k] == '*':\n",
        "                        no1S = clause1[pre1 + 1:k]\n",
        "                        if no1S[0] == '-':\n",
        "                            no1 = -1 * int(no1S[1:])\n",
        "                        else:\n",
        "                            no1 = int(no1S)\n",
        "                        pre2 = 0\n",
        "                        for l in range(1,len(clause2)):\n",
        "                            if clause2[l] == '*':\n",
        "                                no2S = clause2[pre2 + 1:l]\n",
        "                                if no2S[0] == '-':\n",
        "                                    no2 = -1 * int(no2S[1:])\n",
        "                                else:\n",
        "                                    no2 = int(no2S)\n",
        "                                if no1 + no2 == 0:\n",
        "                                    newClause = clause1[:pre1] + clause1[k:]\n",
        "                                    sub = clause2[:pre2] + clause2[l:]\n",
        "                                    newClause += sub[1:]\n",
        "                                    if len(newClause) == 1:\n",
        "                                        return True\n",
        "                                    if newClause not in clause1Set and newClause not in clause2Set:\n",
        "                                        newClauseSet.add(newClause)\n",
        "                                        newClauses.append(newClause)\n",
        "                                pre2 = l\n",
        "                        pre1 = k\n",
        "\n",
        "\n",
        "        if len(newClauses) == 0:\n",
        "            return False\n",
        "        for clause in clauses2:\n",
        "            clauses1.append(clause)\n",
        "        clauses2 = newClauses\n",
        "        for clause in clause2Set:\n",
        "            clause1Set.add(clause)\n",
        "        clause2Set = newClauseSet\n",
        "\n",
        "if __name__ == \"__main__\":\n",
        "    qs = [['~a', 'h'], ['~i', 'h'], ['m', 'a'], ['~m', 'i'], ['~h']]\n",
        "    k = resolution(qs)\n",
        "    print(k)"
      ],
      "metadata": {
        "colab": {
          "base_uri": "https://localhost:8080/"
        },
        "id": "3WtN0VnWZt_f",
        "outputId": "3eecb913-c09f-4913-961d-8ef24263abb6"
      },
      "execution_count": null,
      "outputs": [
        {
          "output_type": "stream",
          "name": "stdout",
          "text": [
            "True\n"
          ]
        }
      ]
    }
  ]
}